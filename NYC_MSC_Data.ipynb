{
 "cells": [
  {
   "cell_type": "code",
   "execution_count": 1,
   "metadata": {},
   "outputs": [],
   "source": [
    "#packages\n",
    "import pandas as pd\n",
    "import numpy as np\n",
    "import seaborn as sns\n",
    "import matplotlib.pyplot as plt\n",
    "%matplotlib inline"
   ]
  },
  {
   "cell_type": "code",
   "execution_count": 2,
   "metadata": {},
   "outputs": [],
   "source": [
    "#load files\n",
    "df_council = pd.read_csv('NYC_City_Council.csv')\n",
    "df_benefits = pd.read_csv('NYC_Benefits_Programs.csv')"
   ]
  },
  {
   "cell_type": "code",
   "execution_count": 3,
   "metadata": {},
   "outputs": [
    {
     "data": {
      "text/html": [
       "<div>\n",
       "<style scoped>\n",
       "    .dataframe tbody tr th:only-of-type {\n",
       "        vertical-align: middle;\n",
       "    }\n",
       "\n",
       "    .dataframe tbody tr th {\n",
       "        vertical-align: top;\n",
       "    }\n",
       "\n",
       "    .dataframe thead th {\n",
       "        text-align: right;\n",
       "    }\n",
       "</style>\n",
       "<table border=\"1\" class=\"dataframe\">\n",
       "  <thead>\n",
       "    <tr style=\"text-align: right;\">\n",
       "      <th></th>\n",
       "      <th>id</th>\n",
       "      <th>guid</th>\n",
       "      <th>memberid</th>\n",
       "      <th>firstname</th>\n",
       "      <th>lastname</th>\n",
       "      <th>fullname</th>\n",
       "      <th>committeeid</th>\n",
       "      <th>committeename</th>\n",
       "      <th>committee_active</th>\n",
       "      <th>membertypeid</th>\n",
       "      <th>title</th>\n",
       "      <th>memberactive</th>\n",
       "      <th>startdate</th>\n",
       "      <th>enddate</th>\n",
       "      <th>version</th>\n",
       "      <th>lastupdatedutc</th>\n",
       "    </tr>\n",
       "  </thead>\n",
       "  <tbody>\n",
       "    <tr>\n",
       "      <th>0</th>\n",
       "      <td>3847</td>\n",
       "      <td>0879114D-8CE1-4084-B7F5-F3C36188D1AF</td>\n",
       "      <td>7562</td>\n",
       "      <td>Margaret S.</td>\n",
       "      <td>Chin</td>\n",
       "      <td>Margaret S. Chin</td>\n",
       "      <td>3</td>\n",
       "      <td>Committee on Aging</td>\n",
       "      <td>True</td>\n",
       "      <td>1</td>\n",
       "      <td>Chairperson</td>\n",
       "      <td>True</td>\n",
       "      <td>2018-01-11 0:00:00</td>\n",
       "      <td>2021-12-31 0:00:00</td>\n",
       "      <td>AAAAAOV8hOg=</td>\n",
       "      <td>2018-01-11 15:10:04</td>\n",
       "    </tr>\n",
       "    <tr>\n",
       "      <th>1</th>\n",
       "      <td>3848</td>\n",
       "      <td>D7991589-B5CC-4555-9CC4-55E7B9BD855D</td>\n",
       "      <td>7742</td>\n",
       "      <td>Diana</td>\n",
       "      <td>Ayala</td>\n",
       "      <td>Diana Ayala</td>\n",
       "      <td>3</td>\n",
       "      <td>Committee on Aging</td>\n",
       "      <td>True</td>\n",
       "      <td>3</td>\n",
       "      <td>Committee member</td>\n",
       "      <td>True</td>\n",
       "      <td>2018-01-11 0:00:00</td>\n",
       "      <td>2021-12-31 0:00:00</td>\n",
       "      <td>AAAAAOV8hVU=</td>\n",
       "      <td>2018-01-11 15:10:34</td>\n",
       "    </tr>\n",
       "    <tr>\n",
       "      <th>2</th>\n",
       "      <td>3849</td>\n",
       "      <td>FB647542-EA29-4A04-88CF-AA9D4C353305</td>\n",
       "      <td>7629</td>\n",
       "      <td>Chaim M.</td>\n",
       "      <td>Deutsch</td>\n",
       "      <td>Chaim M. Deutsch</td>\n",
       "      <td>3</td>\n",
       "      <td>Committee on Aging</td>\n",
       "      <td>True</td>\n",
       "      <td>3</td>\n",
       "      <td>Committee member</td>\n",
       "      <td>True</td>\n",
       "      <td>2018-01-11 0:00:00</td>\n",
       "      <td>2021-12-31 0:00:00</td>\n",
       "      <td>AAAAAOV8hVY=</td>\n",
       "      <td>2018-01-11 15:11:44</td>\n",
       "    </tr>\n",
       "    <tr>\n",
       "      <th>3</th>\n",
       "      <td>3850</td>\n",
       "      <td>6DCA54ED-5EEE-4F6A-B949-41159C1E49CF</td>\n",
       "      <td>7744</td>\n",
       "      <td>Ruben</td>\n",
       "      <td>Diaz, Sr.</td>\n",
       "      <td>Ruben Diaz, Sr.</td>\n",
       "      <td>3</td>\n",
       "      <td>Committee on Aging</td>\n",
       "      <td>True</td>\n",
       "      <td>3</td>\n",
       "      <td>Committee member</td>\n",
       "      <td>True</td>\n",
       "      <td>2018-01-11 0:00:00</td>\n",
       "      <td>2021-12-31 0:00:00</td>\n",
       "      <td>AAAAAOV8hVc=</td>\n",
       "      <td>2018-01-11 15:12:40</td>\n",
       "    </tr>\n",
       "    <tr>\n",
       "      <th>4</th>\n",
       "      <td>3851</td>\n",
       "      <td>414B764F-15FC-4F7A-8047-0CA22C39490F</td>\n",
       "      <td>7563</td>\n",
       "      <td>Daniel</td>\n",
       "      <td>Dromm</td>\n",
       "      <td>Daniel Dromm</td>\n",
       "      <td>3</td>\n",
       "      <td>Committee on Aging</td>\n",
       "      <td>True</td>\n",
       "      <td>3</td>\n",
       "      <td>Committee member</td>\n",
       "      <td>False</td>\n",
       "      <td>2018-01-11 0:00:00</td>\n",
       "      <td>2019-04-09 0:00:00</td>\n",
       "      <td>AAAAAOXMh5U=</td>\n",
       "      <td>2018-01-11 15:13:09</td>\n",
       "    </tr>\n",
       "  </tbody>\n",
       "</table>\n",
       "</div>"
      ],
      "text/plain": [
       "     id                                  guid  memberid    firstname  \\\n",
       "0  3847  0879114D-8CE1-4084-B7F5-F3C36188D1AF      7562  Margaret S.   \n",
       "1  3848  D7991589-B5CC-4555-9CC4-55E7B9BD855D      7742        Diana   \n",
       "2  3849  FB647542-EA29-4A04-88CF-AA9D4C353305      7629     Chaim M.   \n",
       "3  3850  6DCA54ED-5EEE-4F6A-B949-41159C1E49CF      7744        Ruben   \n",
       "4  3851  414B764F-15FC-4F7A-8047-0CA22C39490F      7563       Daniel   \n",
       "\n",
       "    lastname          fullname  committeeid       committeename  \\\n",
       "0       Chin  Margaret S. Chin            3  Committee on Aging   \n",
       "1      Ayala       Diana Ayala            3  Committee on Aging   \n",
       "2    Deutsch  Chaim M. Deutsch            3  Committee on Aging   \n",
       "3  Diaz, Sr.   Ruben Diaz, Sr.            3  Committee on Aging   \n",
       "4      Dromm      Daniel Dromm            3  Committee on Aging   \n",
       "\n",
       "   committee_active  membertypeid             title  memberactive  \\\n",
       "0              True             1       Chairperson          True   \n",
       "1              True             3  Committee member          True   \n",
       "2              True             3  Committee member          True   \n",
       "3              True             3  Committee member          True   \n",
       "4              True             3  Committee member         False   \n",
       "\n",
       "            startdate             enddate       version       lastupdatedutc  \n",
       "0  2018-01-11 0:00:00  2021-12-31 0:00:00  AAAAAOV8hOg=  2018-01-11 15:10:04  \n",
       "1  2018-01-11 0:00:00  2021-12-31 0:00:00  AAAAAOV8hVU=  2018-01-11 15:10:34  \n",
       "2  2018-01-11 0:00:00  2021-12-31 0:00:00  AAAAAOV8hVY=  2018-01-11 15:11:44  \n",
       "3  2018-01-11 0:00:00  2021-12-31 0:00:00  AAAAAOV8hVc=  2018-01-11 15:12:40  \n",
       "4  2018-01-11 0:00:00  2019-04-09 0:00:00  AAAAAOXMh5U=  2018-01-11 15:13:09  "
      ]
     },
     "execution_count": 3,
     "metadata": {},
     "output_type": "execute_result"
    }
   ],
   "source": [
    "df_council.head()"
   ]
  },
  {
   "cell_type": "code",
   "execution_count": 4,
   "metadata": {},
   "outputs": [
    {
     "data": {
      "text/plain": [
       "id                   int64\n",
       "guid                object\n",
       "memberid             int64\n",
       "firstname           object\n",
       "lastname            object\n",
       "fullname            object\n",
       "committeeid          int64\n",
       "committeename       object\n",
       "committee_active      bool\n",
       "membertypeid         int64\n",
       "title               object\n",
       "memberactive          bool\n",
       "startdate           object\n",
       "enddate             object\n",
       "version             object\n",
       "lastupdatedutc      object\n",
       "dtype: object"
      ]
     },
     "execution_count": 4,
     "metadata": {},
     "output_type": "execute_result"
    }
   ],
   "source": [
    "df_council.dtypes"
   ]
  },
  {
   "cell_type": "code",
   "execution_count": 5,
   "metadata": {},
   "outputs": [],
   "source": [
    "#drop unneeded columns\n",
    "df_council.drop(columns=['version', 'guid', 'fullname', 'membertypeid', 'lastupdatedutc'],axis=1, inplace=True)"
   ]
  },
  {
   "cell_type": "code",
   "execution_count": 6,
   "metadata": {},
   "outputs": [],
   "source": [
    "#taking out the 0:00:00 from date columns\n",
    "df_council['startdate'] = df_council['startdate'].str.replace(\"\\s0:00:00\", \"\")\n",
    "df_council['enddate'] = df_council['enddate'].str.replace(\"\\s0:00:00\", \"\")"
   ]
  },
  {
   "cell_type": "code",
   "execution_count": 7,
   "metadata": {},
   "outputs": [
    {
     "data": {
      "text/html": [
       "<div>\n",
       "<style scoped>\n",
       "    .dataframe tbody tr th:only-of-type {\n",
       "        vertical-align: middle;\n",
       "    }\n",
       "\n",
       "    .dataframe tbody tr th {\n",
       "        vertical-align: top;\n",
       "    }\n",
       "\n",
       "    .dataframe thead th {\n",
       "        text-align: right;\n",
       "    }\n",
       "</style>\n",
       "<table border=\"1\" class=\"dataframe\">\n",
       "  <thead>\n",
       "    <tr style=\"text-align: right;\">\n",
       "      <th></th>\n",
       "      <th>id</th>\n",
       "      <th>memberid</th>\n",
       "      <th>firstname</th>\n",
       "      <th>lastname</th>\n",
       "      <th>committeeid</th>\n",
       "      <th>committeename</th>\n",
       "      <th>committee_active</th>\n",
       "      <th>title</th>\n",
       "      <th>memberactive</th>\n",
       "      <th>startdate</th>\n",
       "      <th>enddate</th>\n",
       "    </tr>\n",
       "  </thead>\n",
       "  <tbody>\n",
       "    <tr>\n",
       "      <th>0</th>\n",
       "      <td>3847</td>\n",
       "      <td>7562</td>\n",
       "      <td>Margaret S.</td>\n",
       "      <td>Chin</td>\n",
       "      <td>3</td>\n",
       "      <td>Committee on Aging</td>\n",
       "      <td>True</td>\n",
       "      <td>Chairperson</td>\n",
       "      <td>True</td>\n",
       "      <td>2018-01-11</td>\n",
       "      <td>2021-12-31</td>\n",
       "    </tr>\n",
       "    <tr>\n",
       "      <th>1</th>\n",
       "      <td>3848</td>\n",
       "      <td>7742</td>\n",
       "      <td>Diana</td>\n",
       "      <td>Ayala</td>\n",
       "      <td>3</td>\n",
       "      <td>Committee on Aging</td>\n",
       "      <td>True</td>\n",
       "      <td>Committee member</td>\n",
       "      <td>True</td>\n",
       "      <td>2018-01-11</td>\n",
       "      <td>2021-12-31</td>\n",
       "    </tr>\n",
       "    <tr>\n",
       "      <th>2</th>\n",
       "      <td>3849</td>\n",
       "      <td>7629</td>\n",
       "      <td>Chaim M.</td>\n",
       "      <td>Deutsch</td>\n",
       "      <td>3</td>\n",
       "      <td>Committee on Aging</td>\n",
       "      <td>True</td>\n",
       "      <td>Committee member</td>\n",
       "      <td>True</td>\n",
       "      <td>2018-01-11</td>\n",
       "      <td>2021-12-31</td>\n",
       "    </tr>\n",
       "    <tr>\n",
       "      <th>3</th>\n",
       "      <td>3850</td>\n",
       "      <td>7744</td>\n",
       "      <td>Ruben</td>\n",
       "      <td>Diaz, Sr.</td>\n",
       "      <td>3</td>\n",
       "      <td>Committee on Aging</td>\n",
       "      <td>True</td>\n",
       "      <td>Committee member</td>\n",
       "      <td>True</td>\n",
       "      <td>2018-01-11</td>\n",
       "      <td>2021-12-31</td>\n",
       "    </tr>\n",
       "    <tr>\n",
       "      <th>4</th>\n",
       "      <td>3851</td>\n",
       "      <td>7563</td>\n",
       "      <td>Daniel</td>\n",
       "      <td>Dromm</td>\n",
       "      <td>3</td>\n",
       "      <td>Committee on Aging</td>\n",
       "      <td>True</td>\n",
       "      <td>Committee member</td>\n",
       "      <td>False</td>\n",
       "      <td>2018-01-11</td>\n",
       "      <td>2019-04-09</td>\n",
       "    </tr>\n",
       "  </tbody>\n",
       "</table>\n",
       "</div>"
      ],
      "text/plain": [
       "     id  memberid    firstname   lastname  committeeid       committeename  \\\n",
       "0  3847      7562  Margaret S.       Chin            3  Committee on Aging   \n",
       "1  3848      7742        Diana      Ayala            3  Committee on Aging   \n",
       "2  3849      7629     Chaim M.    Deutsch            3  Committee on Aging   \n",
       "3  3850      7744        Ruben  Diaz, Sr.            3  Committee on Aging   \n",
       "4  3851      7563       Daniel      Dromm            3  Committee on Aging   \n",
       "\n",
       "   committee_active             title  memberactive   startdate     enddate  \n",
       "0              True       Chairperson          True  2018-01-11  2021-12-31  \n",
       "1              True  Committee member          True  2018-01-11  2021-12-31  \n",
       "2              True  Committee member          True  2018-01-11  2021-12-31  \n",
       "3              True  Committee member          True  2018-01-11  2021-12-31  \n",
       "4              True  Committee member         False  2018-01-11  2019-04-09  "
      ]
     },
     "execution_count": 7,
     "metadata": {},
     "output_type": "execute_result"
    }
   ],
   "source": [
    "df_council.head()"
   ]
  },
  {
   "cell_type": "code",
   "execution_count": 8,
   "metadata": {},
   "outputs": [
    {
     "data": {
      "text/html": [
       "<div>\n",
       "<style scoped>\n",
       "    .dataframe tbody tr th:only-of-type {\n",
       "        vertical-align: middle;\n",
       "    }\n",
       "\n",
       "    .dataframe tbody tr th {\n",
       "        vertical-align: top;\n",
       "    }\n",
       "\n",
       "    .dataframe thead th {\n",
       "        text-align: right;\n",
       "    }\n",
       "</style>\n",
       "<table border=\"1\" class=\"dataframe\">\n",
       "  <thead>\n",
       "    <tr style=\"text-align: right;\">\n",
       "      <th></th>\n",
       "      <th>unique_id</th>\n",
       "      <th>program_code</th>\n",
       "      <th>language</th>\n",
       "      <th>program_name</th>\n",
       "      <th>program_acronym</th>\n",
       "      <th>page_type</th>\n",
       "      <th>program_category</th>\n",
       "      <th>government_agency</th>\n",
       "      <th>population_served</th>\n",
       "      <th>age_group</th>\n",
       "      <th>...</th>\n",
       "      <th>required_documents_summary</th>\n",
       "      <th>get_help_summary</th>\n",
       "      <th>get_help_in_person</th>\n",
       "      <th>get_help_online</th>\n",
       "      <th>get_help_by_email</th>\n",
       "      <th>get_help_by_calling_other_than_311</th>\n",
       "      <th>get_help_by_calling_311</th>\n",
       "      <th>how_to_apply_or_enroll_by_phone</th>\n",
       "      <th>apply_by_mail_call_to_action</th>\n",
       "      <th>url_of_pdf_application_forms</th>\n",
       "    </tr>\n",
       "  </thead>\n",
       "  <tbody>\n",
       "    <tr>\n",
       "      <th>0</th>\n",
       "      <td>P064en</td>\n",
       "      <td>NaN</td>\n",
       "      <td>English</td>\n",
       "      <td>Living for the Young Family Through Education</td>\n",
       "      <td>LYFE</td>\n",
       "      <td>Program</td>\n",
       "      <td>Child Care</td>\n",
       "      <td>NYC Department of Education/District 79</td>\n",
       "      <td>Children (0-13),Families,Immigrants,NYCHA resi...</td>\n",
       "      <td>Caregiver,Baby,Toddler,Pre-Schooler</td>\n",
       "      <td>...</td>\n",
       "      <td>&lt;ul&gt;&lt;li&gt;Proof of your child's age&lt;/li&gt;&lt;li&gt;A cu...</td>\n",
       "      <td>&lt;ul&gt;&lt;li&gt;Visit the &lt;a href=\"http://lyfenyc.org/...</td>\n",
       "      <td>&lt;p&gt;&lt;strong&gt;Visit Central Office&lt;/strong&gt;&lt;/p&gt;&lt;p...</td>\n",
       "      <td>&lt;p&gt;&lt;strong&gt;Visit the website&lt;/strong&gt;&lt;/p&gt;&lt;p&gt;Vi...</td>\n",
       "      <td>&lt;p&gt;&lt;strong&gt;Email LYFE&lt;/strong&gt;&lt;/p&gt;&lt;p&gt;Email LYF...</td>\n",
       "      <td>&lt;p&gt;&lt;strong&gt;Call the office&lt;/strong&gt;&lt;/p&gt;&lt;p&gt;Call...</td>\n",
       "      <td>&lt;p&gt;&lt;strong&gt;Call 311&lt;/strong&gt;&lt;/p&gt;&lt;p&gt;Ask about t...</td>\n",
       "      <td>NaN</td>\n",
       "      <td>NaN</td>\n",
       "      <td>NaN</td>\n",
       "    </tr>\n",
       "    <tr>\n",
       "      <th>1</th>\n",
       "      <td>P139en</td>\n",
       "      <td>NaN</td>\n",
       "      <td>English</td>\n",
       "      <td>NYS Paid Family Leave</td>\n",
       "      <td>PFL</td>\n",
       "      <td>Benefit</td>\n",
       "      <td>Child Care</td>\n",
       "      <td>NYS Workers' Compensation Board</td>\n",
       "      <td>Families,Immigrants,Pregnant &amp; new parents,COV...</td>\n",
       "      <td>NaN</td>\n",
       "      <td>...</td>\n",
       "      <td>&lt;p&gt;&lt;strong&gt;You'll need different documents dep...</td>\n",
       "      <td>NaN</td>\n",
       "      <td>NaN</td>\n",
       "      <td>&lt;p&gt;&lt;strong&gt;Visit the websites&lt;/strong&gt;&lt;/p&gt;&lt;p&gt;L...</td>\n",
       "      <td>NaN</td>\n",
       "      <td>&lt;p&gt;&lt;strong&gt;Call the Paid Family Leave Helpline...</td>\n",
       "      <td>NaN</td>\n",
       "      <td>NaN</td>\n",
       "      <td>NaN</td>\n",
       "      <td>NaN</td>\n",
       "    </tr>\n",
       "    <tr>\n",
       "      <th>2</th>\n",
       "      <td>P140en</td>\n",
       "      <td>NaN</td>\n",
       "      <td>English</td>\n",
       "      <td>Family Type Homes for Adults</td>\n",
       "      <td>FTHA</td>\n",
       "      <td>Program</td>\n",
       "      <td>Housing</td>\n",
       "      <td>NYS Office of Children and Family Services (OF...</td>\n",
       "      <td>People with disabilities,Seniors</td>\n",
       "      <td>NaN</td>\n",
       "      <td>...</td>\n",
       "      <td>NaN</td>\n",
       "      <td>NaN</td>\n",
       "      <td>NaN</td>\n",
       "      <td>&lt;p&gt;&lt;strong&gt;Visit the Website&lt;/strong&gt;&lt;/p&gt;&lt;p&gt;Re...</td>\n",
       "      <td>NaN</td>\n",
       "      <td>&lt;p&gt;&lt;strong&gt;Information on FTHA placements&lt;/str...</td>\n",
       "      <td>&lt;p&gt;&lt;strong&gt;Call 311 &lt;/strong&gt;&lt;/p&gt;&lt;p&gt;Ask about ...</td>\n",
       "      <td>&lt;p&gt;Referrals to the FTHA program typically com...</td>\n",
       "      <td>NaN</td>\n",
       "      <td>NaN</td>\n",
       "    </tr>\n",
       "    <tr>\n",
       "      <th>3</th>\n",
       "      <td>P138en</td>\n",
       "      <td>NaN</td>\n",
       "      <td>English</td>\n",
       "      <td>Family Homelessness and Eviction Prevention Su...</td>\n",
       "      <td>FHEPS</td>\n",
       "      <td>Benefit</td>\n",
       "      <td>Housing</td>\n",
       "      <td>Department of Social Services (DSS), Departmen...</td>\n",
       "      <td>Families,People with disabilities,Pregnant &amp; n...</td>\n",
       "      <td>NaN</td>\n",
       "      <td>...</td>\n",
       "      <td>&lt;p&gt;Your caseworker will work with you to colle...</td>\n",
       "      <td>NaN</td>\n",
       "      <td>&lt;p&gt;&lt;strong&gt;In person&lt;/strong&gt;&lt;/p&gt;&lt;p&gt;If you liv...</td>\n",
       "      <td>&lt;p&gt;&lt;strong&gt;Visit the website&lt;/strong&gt;&lt;/p&gt;&lt;p&gt;Le...</td>\n",
       "      <td>NaN</td>\n",
       "      <td>&lt;p&gt;&lt;strong&gt;Call HRA&lt;/strong&gt;&lt;/p&gt;&lt;p&gt;Families wh...</td>\n",
       "      <td>&lt;p&gt;&lt;strong&gt;Call 311&lt;/strong&gt;&lt;/p&gt;&lt;p&gt;If you're a...</td>\n",
       "      <td>NaN</td>\n",
       "      <td>NaN</td>\n",
       "      <td>NaN</td>\n",
       "    </tr>\n",
       "    <tr>\n",
       "      <th>4</th>\n",
       "      <td>P052en</td>\n",
       "      <td>NaN</td>\n",
       "      <td>English</td>\n",
       "      <td>School's Out NYC</td>\n",
       "      <td>SONYC</td>\n",
       "      <td>Program</td>\n",
       "      <td>Enrichment</td>\n",
       "      <td>NYC Department of Youth &amp; Community Development</td>\n",
       "      <td>Youth (10+)</td>\n",
       "      <td>Pre-Teen,Teen</td>\n",
       "      <td>...</td>\n",
       "      <td>NaN</td>\n",
       "      <td>&lt;ul&gt;&lt;li&gt;Visit the &lt;a href=\"https://www1.nyc.go...</td>\n",
       "      <td>&lt;p&gt;&lt;strong&gt;Visit your child's school&lt;/strong&gt;&lt;...</td>\n",
       "      <td>&lt;p&gt;&lt;strong&gt;Visit the websites&lt;/strong&gt;&lt;/p&gt;&lt;p&gt;V...</td>\n",
       "      <td>NaN</td>\n",
       "      <td>&lt;p&gt;&lt;strong&gt;Call Youth Connect&lt;/strong&gt;&lt;/p&gt;&lt;p&gt;C...</td>\n",
       "      <td>NaN</td>\n",
       "      <td>NaN</td>\n",
       "      <td>NaN</td>\n",
       "      <td>NaN</td>\n",
       "    </tr>\n",
       "  </tbody>\n",
       "</table>\n",
       "<p>5 rows × 33 columns</p>\n",
       "</div>"
      ],
      "text/plain": [
       "  unique_id program_code language  \\\n",
       "0    P064en          NaN  English   \n",
       "1    P139en          NaN  English   \n",
       "2    P140en          NaN  English   \n",
       "3    P138en          NaN  English   \n",
       "4    P052en          NaN  English   \n",
       "\n",
       "                                        program_name program_acronym  \\\n",
       "0      Living for the Young Family Through Education            LYFE   \n",
       "1                              NYS Paid Family Leave             PFL   \n",
       "2                       Family Type Homes for Adults            FTHA   \n",
       "3  Family Homelessness and Eviction Prevention Su...           FHEPS   \n",
       "4                                   School's Out NYC           SONYC   \n",
       "\n",
       "  page_type program_category  \\\n",
       "0   Program       Child Care   \n",
       "1   Benefit       Child Care   \n",
       "2   Program          Housing   \n",
       "3   Benefit          Housing   \n",
       "4   Program       Enrichment   \n",
       "\n",
       "                                   government_agency  \\\n",
       "0            NYC Department of Education/District 79   \n",
       "1                    NYS Workers' Compensation Board   \n",
       "2  NYS Office of Children and Family Services (OF...   \n",
       "3  Department of Social Services (DSS), Departmen...   \n",
       "4    NYC Department of Youth & Community Development   \n",
       "\n",
       "                                   population_served  \\\n",
       "0  Children (0-13),Families,Immigrants,NYCHA resi...   \n",
       "1  Families,Immigrants,Pregnant & new parents,COV...   \n",
       "2                   People with disabilities,Seniors   \n",
       "3  Families,People with disabilities,Pregnant & n...   \n",
       "4                                        Youth (10+)   \n",
       "\n",
       "                             age_group  ...  \\\n",
       "0  Caregiver,Baby,Toddler,Pre-Schooler  ...   \n",
       "1                                  NaN  ...   \n",
       "2                                  NaN  ...   \n",
       "3                                  NaN  ...   \n",
       "4                        Pre-Teen,Teen  ...   \n",
       "\n",
       "                          required_documents_summary  \\\n",
       "0  <ul><li>Proof of your child's age</li><li>A cu...   \n",
       "1  <p><strong>You'll need different documents dep...   \n",
       "2                                                NaN   \n",
       "3  <p>Your caseworker will work with you to colle...   \n",
       "4                                                NaN   \n",
       "\n",
       "                                    get_help_summary  \\\n",
       "0  <ul><li>Visit the <a href=\"http://lyfenyc.org/...   \n",
       "1                                                NaN   \n",
       "2                                                NaN   \n",
       "3                                                NaN   \n",
       "4  <ul><li>Visit the <a href=\"https://www1.nyc.go...   \n",
       "\n",
       "                                  get_help_in_person  \\\n",
       "0  <p><strong>Visit Central Office</strong></p><p...   \n",
       "1                                                NaN   \n",
       "2                                                NaN   \n",
       "3  <p><strong>In person</strong></p><p>If you liv...   \n",
       "4  <p><strong>Visit your child's school</strong><...   \n",
       "\n",
       "                                     get_help_online  \\\n",
       "0  <p><strong>Visit the website</strong></p><p>Vi...   \n",
       "1  <p><strong>Visit the websites</strong></p><p>L...   \n",
       "2  <p><strong>Visit the Website</strong></p><p>Re...   \n",
       "3  <p><strong>Visit the website</strong></p><p>Le...   \n",
       "4  <p><strong>Visit the websites</strong></p><p>V...   \n",
       "\n",
       "                                   get_help_by_email  \\\n",
       "0  <p><strong>Email LYFE</strong></p><p>Email LYF...   \n",
       "1                                                NaN   \n",
       "2                                                NaN   \n",
       "3                                                NaN   \n",
       "4                                                NaN   \n",
       "\n",
       "                  get_help_by_calling_other_than_311  \\\n",
       "0  <p><strong>Call the office</strong></p><p>Call...   \n",
       "1  <p><strong>Call the Paid Family Leave Helpline...   \n",
       "2  <p><strong>Information on FTHA placements</str...   \n",
       "3  <p><strong>Call HRA</strong></p><p>Families wh...   \n",
       "4  <p><strong>Call Youth Connect</strong></p><p>C...   \n",
       "\n",
       "                             get_help_by_calling_311  \\\n",
       "0  <p><strong>Call 311</strong></p><p>Ask about t...   \n",
       "1                                                NaN   \n",
       "2  <p><strong>Call 311 </strong></p><p>Ask about ...   \n",
       "3  <p><strong>Call 311</strong></p><p>If you're a...   \n",
       "4                                                NaN   \n",
       "\n",
       "                     how_to_apply_or_enroll_by_phone  \\\n",
       "0                                                NaN   \n",
       "1                                                NaN   \n",
       "2  <p>Referrals to the FTHA program typically com...   \n",
       "3                                                NaN   \n",
       "4                                                NaN   \n",
       "\n",
       "  apply_by_mail_call_to_action url_of_pdf_application_forms  \n",
       "0                          NaN                          NaN  \n",
       "1                          NaN                          NaN  \n",
       "2                          NaN                          NaN  \n",
       "3                          NaN                          NaN  \n",
       "4                          NaN                          NaN  \n",
       "\n",
       "[5 rows x 33 columns]"
      ]
     },
     "execution_count": 8,
     "metadata": {},
     "output_type": "execute_result"
    }
   ],
   "source": [
    "df_benefits.head()"
   ]
  },
  {
   "cell_type": "code",
   "execution_count": 9,
   "metadata": {},
   "outputs": [],
   "source": [
    "#drop unneeded columns\n",
    "df_benefits.drop(columns=['program_code', 'language', 'age_group', 'get_help_by_calling_311', \n",
    "                          'get_help_by_calling_other_than_311', 'get_help_by_email', 'get_help_online',\n",
    "                         'get_help_in_person', 'get_help_summary', 'required_documents_summary',\n",
    "                         'how_to_apply_or_enroll_by_phone', 'office_locations_url',\n",
    "                         'apply_in_person_call_to_action', 'how_to_apply_or_enroll_in_person'],axis=1, inplace=True)"
   ]
  },
  {
   "cell_type": "code",
   "execution_count": 10,
   "metadata": {},
   "outputs": [],
   "source": [
    "df_benefits.drop(columns=['url_of_pdf_application_forms', 'apply_by_mail_call_to_action',\n",
    "                         'how_to_apply_or_enroll_by_mail', 'url_of_online_application',\n",
    "                         'apply_online_call_to_action', 'how_to_apply_or_enroll_online',\n",
    "                         'how_to_apply_summary'],axis=1, inplace=True)"
   ]
  },
  {
   "cell_type": "code",
   "execution_count": 11,
   "metadata": {},
   "outputs": [
    {
     "data": {
      "text/html": [
       "<div>\n",
       "<style scoped>\n",
       "    .dataframe tbody tr th:only-of-type {\n",
       "        vertical-align: middle;\n",
       "    }\n",
       "\n",
       "    .dataframe tbody tr th {\n",
       "        vertical-align: top;\n",
       "    }\n",
       "\n",
       "    .dataframe thead th {\n",
       "        text-align: right;\n",
       "    }\n",
       "</style>\n",
       "<table border=\"1\" class=\"dataframe\">\n",
       "  <thead>\n",
       "    <tr style=\"text-align: right;\">\n",
       "      <th></th>\n",
       "      <th>unique_id</th>\n",
       "      <th>program_name</th>\n",
       "      <th>program_acronym</th>\n",
       "      <th>page_type</th>\n",
       "      <th>program_category</th>\n",
       "      <th>government_agency</th>\n",
       "      <th>population_served</th>\n",
       "      <th>plain_language_program_name</th>\n",
       "      <th>program_description</th>\n",
       "      <th>brief_excerpt</th>\n",
       "      <th>heads_up</th>\n",
       "      <th>plain_language_eligibility</th>\n",
       "    </tr>\n",
       "  </thead>\n",
       "  <tbody>\n",
       "    <tr>\n",
       "      <th>0</th>\n",
       "      <td>P064en</td>\n",
       "      <td>Living for the Young Family Through Education</td>\n",
       "      <td>LYFE</td>\n",
       "      <td>Program</td>\n",
       "      <td>Child Care</td>\n",
       "      <td>NYC Department of Education/District 79</td>\n",
       "      <td>Children (0-13),Families,Immigrants,NYCHA resi...</td>\n",
       "      <td>Early childhood education and support services</td>\n",
       "      <td>&lt;p&gt;LYFE empowers parents in continuing, or rec...</td>\n",
       "      <td>&lt;p&gt;Student parents can get free early childhoo...</td>\n",
       "      <td>&lt;ul&gt;&lt;li&gt;Services are free to all eligible fami...</td>\n",
       "      <td>&lt;p&gt;You may be eligible for LYFE if you answer ...</td>\n",
       "    </tr>\n",
       "    <tr>\n",
       "      <th>1</th>\n",
       "      <td>P139en</td>\n",
       "      <td>NYS Paid Family Leave</td>\n",
       "      <td>PFL</td>\n",
       "      <td>Benefit</td>\n",
       "      <td>Child Care</td>\n",
       "      <td>NYS Workers' Compensation Board</td>\n",
       "      <td>Families,Immigrants,Pregnant &amp; new parents,COV...</td>\n",
       "      <td>Paid time off to care for family</td>\n",
       "      <td>&lt;p&gt;&lt;strong&gt;Paid Family Leave (PFL)&lt;/strong&gt; gi...</td>\n",
       "      <td>&lt;p&gt;Up to 12 weeks of paid time off to care for...</td>\n",
       "      <td>&lt;p&gt;&lt;strong&gt;Update: &lt;/strong&gt;Paid Leave may be ...</td>\n",
       "      <td>&lt;p&gt;NY State Paid Family Leave is available to ...</td>\n",
       "    </tr>\n",
       "    <tr>\n",
       "      <th>2</th>\n",
       "      <td>P140en</td>\n",
       "      <td>Family Type Homes for Adults</td>\n",
       "      <td>FTHA</td>\n",
       "      <td>Program</td>\n",
       "      <td>Housing</td>\n",
       "      <td>NYS Office of Children and Family Services (OF...</td>\n",
       "      <td>People with disabilities,Seniors</td>\n",
       "      <td>Homes for adults who cannot live alone</td>\n",
       "      <td>&lt;p&gt;Family-Type Home for Adults (FTHA) are stat...</td>\n",
       "      <td>&lt;p&gt;Supportive housing for adults who cannot li...</td>\n",
       "      <td>&lt;ul&gt;&lt;li&gt;FTHA homes are for adults who cannot l...</td>\n",
       "      <td>&lt;p&gt;&lt;strong&gt;To be considered for FTHA housing, ...</td>\n",
       "    </tr>\n",
       "    <tr>\n",
       "      <th>3</th>\n",
       "      <td>P138en</td>\n",
       "      <td>Family Homelessness and Eviction Prevention Su...</td>\n",
       "      <td>FHEPS</td>\n",
       "      <td>Benefit</td>\n",
       "      <td>Housing</td>\n",
       "      <td>Department of Social Services (DSS), Departmen...</td>\n",
       "      <td>Families,People with disabilities,Pregnant &amp; n...</td>\n",
       "      <td>Help with rent for families with children</td>\n",
       "      <td>&lt;p&gt;FHEPS is a rent supplement for families who...</td>\n",
       "      <td>&lt;p&gt;Pays part of or all of the rent to eligible...</td>\n",
       "      <td>&lt;p&gt;&lt;strong&gt;Update: &lt;/strong&gt;Families who are a...</td>\n",
       "      <td>&lt;p&gt;&lt;strong&gt;Your family must include one of the...</td>\n",
       "    </tr>\n",
       "    <tr>\n",
       "      <th>4</th>\n",
       "      <td>P052en</td>\n",
       "      <td>School's Out NYC</td>\n",
       "      <td>SONYC</td>\n",
       "      <td>Program</td>\n",
       "      <td>Enrichment</td>\n",
       "      <td>NYC Department of Youth &amp; Community Development</td>\n",
       "      <td>Youth (10+)</td>\n",
       "      <td>After school for middle schoolers</td>\n",
       "      <td>&lt;p&gt;SONYC is an after school program for studen...</td>\n",
       "      <td>&lt;p&gt;SONYC offers a mix of activities, including...</td>\n",
       "      <td>&lt;ul&gt;&lt;li&gt;Young people can take part in programs...</td>\n",
       "      <td>&lt;p&gt;All NYC students, in 6th, 7th, and 8th grad...</td>\n",
       "    </tr>\n",
       "  </tbody>\n",
       "</table>\n",
       "</div>"
      ],
      "text/plain": [
       "  unique_id                                       program_name  \\\n",
       "0    P064en      Living for the Young Family Through Education   \n",
       "1    P139en                              NYS Paid Family Leave   \n",
       "2    P140en                       Family Type Homes for Adults   \n",
       "3    P138en  Family Homelessness and Eviction Prevention Su...   \n",
       "4    P052en                                   School's Out NYC   \n",
       "\n",
       "  program_acronym page_type program_category  \\\n",
       "0            LYFE   Program       Child Care   \n",
       "1             PFL   Benefit       Child Care   \n",
       "2            FTHA   Program          Housing   \n",
       "3           FHEPS   Benefit          Housing   \n",
       "4           SONYC   Program       Enrichment   \n",
       "\n",
       "                                   government_agency  \\\n",
       "0            NYC Department of Education/District 79   \n",
       "1                    NYS Workers' Compensation Board   \n",
       "2  NYS Office of Children and Family Services (OF...   \n",
       "3  Department of Social Services (DSS), Departmen...   \n",
       "4    NYC Department of Youth & Community Development   \n",
       "\n",
       "                                   population_served  \\\n",
       "0  Children (0-13),Families,Immigrants,NYCHA resi...   \n",
       "1  Families,Immigrants,Pregnant & new parents,COV...   \n",
       "2                   People with disabilities,Seniors   \n",
       "3  Families,People with disabilities,Pregnant & n...   \n",
       "4                                        Youth (10+)   \n",
       "\n",
       "                      plain_language_program_name  \\\n",
       "0  Early childhood education and support services   \n",
       "1                Paid time off to care for family   \n",
       "2          Homes for adults who cannot live alone   \n",
       "3       Help with rent for families with children   \n",
       "4               After school for middle schoolers   \n",
       "\n",
       "                                 program_description  \\\n",
       "0  <p>LYFE empowers parents in continuing, or rec...   \n",
       "1  <p><strong>Paid Family Leave (PFL)</strong> gi...   \n",
       "2  <p>Family-Type Home for Adults (FTHA) are stat...   \n",
       "3  <p>FHEPS is a rent supplement for families who...   \n",
       "4  <p>SONYC is an after school program for studen...   \n",
       "\n",
       "                                       brief_excerpt  \\\n",
       "0  <p>Student parents can get free early childhoo...   \n",
       "1  <p>Up to 12 weeks of paid time off to care for...   \n",
       "2  <p>Supportive housing for adults who cannot li...   \n",
       "3  <p>Pays part of or all of the rent to eligible...   \n",
       "4  <p>SONYC offers a mix of activities, including...   \n",
       "\n",
       "                                            heads_up  \\\n",
       "0  <ul><li>Services are free to all eligible fami...   \n",
       "1  <p><strong>Update: </strong>Paid Leave may be ...   \n",
       "2  <ul><li>FTHA homes are for adults who cannot l...   \n",
       "3  <p><strong>Update: </strong>Families who are a...   \n",
       "4  <ul><li>Young people can take part in programs...   \n",
       "\n",
       "                          plain_language_eligibility  \n",
       "0  <p>You may be eligible for LYFE if you answer ...  \n",
       "1  <p>NY State Paid Family Leave is available to ...  \n",
       "2  <p><strong>To be considered for FTHA housing, ...  \n",
       "3  <p><strong>Your family must include one of the...  \n",
       "4  <p>All NYC students, in 6th, 7th, and 8th grad...  "
      ]
     },
     "execution_count": 11,
     "metadata": {},
     "output_type": "execute_result"
    }
   ],
   "source": [
    "df_benefits.head()"
   ]
  },
  {
   "cell_type": "code",
   "execution_count": 12,
   "metadata": {},
   "outputs": [
    {
     "data": {
      "text/plain": [
       "unique_id                      object\n",
       "program_name                   object\n",
       "program_acronym                object\n",
       "page_type                      object\n",
       "program_category               object\n",
       "government_agency              object\n",
       "population_served              object\n",
       "plain_language_program_name    object\n",
       "program_description            object\n",
       "brief_excerpt                  object\n",
       "heads_up                       object\n",
       "plain_language_eligibility     object\n",
       "dtype: object"
      ]
     },
     "execution_count": 12,
     "metadata": {},
     "output_type": "execute_result"
    }
   ],
   "source": [
    "df_benefits.dtypes"
   ]
  },
  {
   "cell_type": "code",
   "execution_count": 13,
   "metadata": {},
   "outputs": [
    {
     "data": {
      "text/plain": [
       "id                   int64\n",
       "memberid             int64\n",
       "firstname           object\n",
       "lastname            object\n",
       "committeeid          int64\n",
       "committeename       object\n",
       "committee_active      bool\n",
       "title               object\n",
       "memberactive          bool\n",
       "startdate           object\n",
       "enddate             object\n",
       "dtype: object"
      ]
     },
     "execution_count": 13,
     "metadata": {},
     "output_type": "execute_result"
    }
   ],
   "source": [
    "df_council.dtypes"
   ]
  },
  {
   "cell_type": "code",
   "execution_count": 14,
   "metadata": {},
   "outputs": [
    {
     "data": {
      "text/plain": [
       "402"
      ]
     },
     "execution_count": 14,
     "metadata": {},
     "output_type": "execute_result"
    }
   ],
   "source": [
    "#402 rows of city council\n",
    "df_council.shape[0]"
   ]
  },
  {
   "cell_type": "code",
   "execution_count": 15,
   "metadata": {},
   "outputs": [
    {
     "data": {
      "text/plain": [
       "11"
      ]
     },
     "execution_count": 15,
     "metadata": {},
     "output_type": "execute_result"
    }
   ],
   "source": [
    "#11 columns\n",
    "df_council.shape[1]"
   ]
  },
  {
   "cell_type": "code",
   "execution_count": 16,
   "metadata": {},
   "outputs": [
    {
     "data": {
      "text/plain": [
       "102"
      ]
     },
     "execution_count": 16,
     "metadata": {},
     "output_type": "execute_result"
    }
   ],
   "source": [
    "#102 rows of benefits/programs\n",
    "df_benefits.shape[0]"
   ]
  },
  {
   "cell_type": "code",
   "execution_count": 17,
   "metadata": {},
   "outputs": [
    {
     "data": {
      "text/plain": [
       "12"
      ]
     },
     "execution_count": 17,
     "metadata": {},
     "output_type": "execute_result"
    }
   ],
   "source": [
    "#12 columns\n",
    "df_benefits.shape[1]"
   ]
  },
  {
   "cell_type": "markdown",
   "metadata": {},
   "source": [
    "Exploartion of Benefits dataframe df_benefits"
   ]
  },
  {
   "cell_type": "code",
   "execution_count": 18,
   "metadata": {},
   "outputs": [
    {
     "data": {
      "text/plain": [
       "Cash & expenses             19\n",
       "Health                      15\n",
       "Education                   13\n",
       "Family Services             12\n",
       "Work                        10\n",
       "Housing                     10\n",
       "Food                         8\n",
       "Child Care                   6\n",
       "Enrichment                   5\n",
       "People with Disabilities     3\n",
       "City ID Card                 1\n",
       "Name: program_category, dtype: int64"
      ]
     },
     "execution_count": 18,
     "metadata": {},
     "output_type": "execute_result"
    }
   ],
   "source": [
    "df_benefits['program_category'].value_counts()"
   ]
  },
  {
   "cell_type": "code",
   "execution_count": 19,
   "metadata": {},
   "outputs": [
    {
     "data": {
      "text/plain": [
       "Program     49\n",
       "Service     24\n",
       "Benefit     20\n",
       "Resource     9\n",
       "Name: page_type, dtype: int64"
      ]
     },
     "execution_count": 19,
     "metadata": {},
     "output_type": "execute_result"
    }
   ],
   "source": [
    "df_benefits['page_type'].value_counts()"
   ]
  },
  {
   "cell_type": "code",
   "execution_count": 20,
   "metadata": {},
   "outputs": [
    {
     "data": {
      "text/plain": [
       "NYC Department of Education                                                                                         12\n",
       "NYC Human Resources Administration                                                                                  12\n",
       "NYC Department of Youth & Community Development                                                                      9\n",
       "NYC Department of Health & Mental Hygiene                                                                            8\n",
       "NYS Department of Health                                                                                             5\n",
       "NYC Health + Hospitals                                                                                               5\n",
       "NYC Housing Authority                                                                                                4\n",
       "NYC Department of Finance                                                                                            3\n",
       "NYC Department of Consumer and Worker Protection (DCWP) / Internal Revenue Service (IRS)                             3\n",
       "Mayor's Office of Immigrant Affairs                                                                                  2\n",
       "The City University of New York (CUNY)                                                                               2\n",
       "NYC Department of Finance / NYC Housing Preservation and Development                                                 2\n",
       "NYS Department of Labor                                                                                              2\n",
       "Federal Emergency Management Agency (FEMA)                                                                           2\n",
       "NYC Service                                                                                                          1\n",
       "NYC Department of Health & Mental Hygiene/NYC Administration for Children's Services                                 1\n",
       "NYC Department of Consumer Affairs                                                                                   1\n",
       "NYC Housing Preservation & Development/NYC Housing Authority                                                         1\n",
       "NYS Department of Education                                                                                          1\n",
       "NYC Human Resources Administration (HRA), NY State                                                                   1\n",
       "NYC Department of Consumer and Worker Protection (DCWP)                                                              1\n",
       "Federal Communications Commission (FCC) | Universal Service Administrative Company (USAC)                            1\n",
       "NYC Department of Education / NYC Department of Youth & Community Development                                        1\n",
       "Department of Consumer and Worker Protection (DCWP)                                                                  1\n",
       "US Department of Housing & Urban Development/ US Department of Veterans Affairs                                      1\n",
       "Department of Health and Mental Hygiene                                                                              1\n",
       "Mayor's Office of Workforce Development                                                                              1\n",
       "NYC Department of Education/District 79                                                                              1\n",
       "New York City Transit                                                                                                1\n",
       "Department of Health and Mental Hygiene (DOHMH)                                                                      1\n",
       "NYS Workers' Compensation Board                                                                                      1\n",
       "NYS Department of Taxation/ NYC Department of Finance                                                                1\n",
       "Internal Revenue Service (IRS)                                                                                       1\n",
       "NYC Department of Education/NYC Department of Health & Mental Hygiene                                                1\n",
       "NYS Office of Children and Family Services (OFCS), NYC Human Resources Administration (HRA)                          1\n",
       "NYC Department of Aging                                                                                              1\n",
       "The City University of New York                                                                                      1\n",
       "New York City Children's Cabinet                                                                                     1\n",
       "Administration for Children Services                                                                                 1\n",
       "Department of Social Services (DSS), Department of Homeless Services (DHS), Human Resources Administration (HRA)     1\n",
       "NYC Department of Small Business Services                                                                            1\n",
       "Federal Communications Commission (FCC)                                                                              1\n",
       "NYC Mayors Office to End Domestic and Gender-Based Violence                                                          1\n",
       "NYC Administration for Childrens Services                                                                            1\n",
       "NYC DSS and HRA / NY State Office of Temporary and Disability Assistance (OTDA) / U.S. Treasury                      1\n",
       "Name: government_agency, dtype: int64"
      ]
     },
     "execution_count": 20,
     "metadata": {},
     "output_type": "execute_result"
    }
   ],
   "source": [
    "# 2 agencies with 12 programs = 24\n",
    "# 1 agency with 9 programs = 9\n",
    "# 1 agency with 8 programs = 8\n",
    "# 2 agencies with 5 programs = 10\n",
    "\n",
    "# 1 agency with 4 programs = 4\n",
    "# 2 agencies with 3 programs = 6\n",
    "# 5 agencies with 2 programs = 10\n",
    "# 31 agencies with 1 program = 31\n",
    "df_benefits['government_agency'].value_counts()"
   ]
  },
  {
   "cell_type": "code",
   "execution_count": 21,
   "metadata": {},
   "outputs": [
    {
     "data": {
      "text/plain": [
       "51"
      ]
     },
     "execution_count": 21,
     "metadata": {},
     "output_type": "execute_result"
    }
   ],
   "source": [
    "#top 4 agencies and number of programs\n",
    "24+9+8+10"
   ]
  },
  {
   "cell_type": "code",
   "execution_count": 22,
   "metadata": {},
   "outputs": [
    {
     "data": {
      "text/plain": [
       "51"
      ]
     },
     "execution_count": 22,
     "metadata": {},
     "output_type": "execute_result"
    }
   ],
   "source": [
    "#bottom 4 agencies and number of programs\n",
    "4+6+10+31"
   ]
  },
  {
   "cell_type": "code",
   "execution_count": 23,
   "metadata": {},
   "outputs": [
    {
     "data": {
      "text/plain": [
       "0.13333333333333333"
      ]
     },
     "execution_count": 23,
     "metadata": {},
     "output_type": "execute_result"
    }
   ],
   "source": [
    "# 13% of the gorvernment agencies produce 50% of the benefits and programs \n",
    "6/45"
   ]
  },
  {
   "cell_type": "code",
   "execution_count": 24,
   "metadata": {},
   "outputs": [],
   "source": [
    "# only taking part of the dataframe - only want the top 50% of agencies making programs\n",
    "df_b = df_benefits[(df_benefits['government_agency'] == \"NYC Department of Education\") |\n",
    "       (df_benefits['government_agency'] == \"NYC Human Resources Administration\") |\n",
    "       (df_benefits['government_agency'] == \"NYC Department of Youth & Community Development\") |\n",
    "       (df_benefits['government_agency'] == \"NYC Department of Health & Mental Hygiene\")]"
   ]
  },
  {
   "cell_type": "code",
   "execution_count": 35,
   "metadata": {},
   "outputs": [
    {
     "data": {
      "text/html": [
       "<div>\n",
       "<style scoped>\n",
       "    .dataframe tbody tr th:only-of-type {\n",
       "        vertical-align: middle;\n",
       "    }\n",
       "\n",
       "    .dataframe tbody tr th {\n",
       "        vertical-align: top;\n",
       "    }\n",
       "\n",
       "    .dataframe thead th {\n",
       "        text-align: right;\n",
       "    }\n",
       "</style>\n",
       "<table border=\"1\" class=\"dataframe\">\n",
       "  <thead>\n",
       "    <tr style=\"text-align: right;\">\n",
       "      <th></th>\n",
       "      <th>unique_id</th>\n",
       "      <th>program_name</th>\n",
       "      <th>program_acronym</th>\n",
       "      <th>page_type</th>\n",
       "      <th>program_category</th>\n",
       "      <th>government_agency</th>\n",
       "      <th>population_served</th>\n",
       "      <th>plain_language_program_name</th>\n",
       "      <th>program_description</th>\n",
       "      <th>brief_excerpt</th>\n",
       "      <th>heads_up</th>\n",
       "      <th>plain_language_eligibility</th>\n",
       "    </tr>\n",
       "  </thead>\n",
       "  <tbody>\n",
       "    <tr>\n",
       "      <th>90</th>\n",
       "      <td>P101en</td>\n",
       "      <td>Career &amp; Technical Education</td>\n",
       "      <td>CTE</td>\n",
       "      <td>Program</td>\n",
       "      <td>Education</td>\n",
       "      <td>NYC Department of Education</td>\n",
       "      <td>Children (0-13),Students,Youth (10+)</td>\n",
       "      <td>Career training for students</td>\n",
       "      <td>&lt;p&gt;Career and technical education (CTE) lets s...</td>\n",
       "      <td>&lt;p&gt;Students gain hands-on career training whil...</td>\n",
       "      <td>&lt;ul&gt;&lt;li&gt;CTE is available at designated &lt;a href...</td>\n",
       "      <td>&lt;p&gt;To be eligible to apply for a NYC public hi...</td>\n",
       "    </tr>\n",
       "    <tr>\n",
       "      <th>93</th>\n",
       "      <td>P059en</td>\n",
       "      <td>Outpatient Treatment Services</td>\n",
       "      <td>NaN</td>\n",
       "      <td>Service</td>\n",
       "      <td>Health</td>\n",
       "      <td>NYC Department of Health &amp; Mental Hygiene</td>\n",
       "      <td>Children (0-13),Immigrants,NYCHA residents,Peo...</td>\n",
       "      <td>Youth mental health care</td>\n",
       "      <td>&lt;p&gt;Young people can get mental health care nea...</td>\n",
       "      <td>&lt;p&gt;Help for young people who have emotional, b...</td>\n",
       "      <td>&lt;p&gt;There are two major types of outpatient men...</td>\n",
       "      <td>&lt;p&gt;Clinic treatment is available for:&lt;/p&gt;&lt;ul&gt;&lt;...</td>\n",
       "    </tr>\n",
       "    <tr>\n",
       "      <th>99</th>\n",
       "      <td>P020en</td>\n",
       "      <td>SchoolFood</td>\n",
       "      <td>NaN</td>\n",
       "      <td>Program</td>\n",
       "      <td>Food</td>\n",
       "      <td>NYC Department of Education</td>\n",
       "      <td>Children (0-13),Immigrants,Students,Youth (10+)</td>\n",
       "      <td>Free school breakfast and lunch</td>\n",
       "      <td>&lt;p&gt;The New York City Department of Education i...</td>\n",
       "      <td>&lt;p&gt;NYC students can enjoy free breakfast and l...</td>\n",
       "      <td>&lt;ul&gt;&lt;li&gt;Families no longer need to fill out ap...</td>\n",
       "      <td>NaN</td>\n",
       "    </tr>\n",
       "    <tr>\n",
       "      <th>100</th>\n",
       "      <td>P030en</td>\n",
       "      <td>Summer Youth Employment Program</td>\n",
       "      <td>SYEP</td>\n",
       "      <td>Program</td>\n",
       "      <td>Work</td>\n",
       "      <td>NYC Department of Youth &amp; Community Development</td>\n",
       "      <td>Students</td>\n",
       "      <td>Paid summer experiences for youth</td>\n",
       "      <td>&lt;p&gt;Summer Youth Employment Program (SYEP) conn...</td>\n",
       "      <td>&lt;p&gt;SYEP provides youth between the ages of 14 ...</td>\n",
       "      <td>&lt;ul&gt;&lt;li&gt;SYEP is &lt;strong&gt;now &lt;/strong&gt;&lt;span&gt;acc...</td>\n",
       "      <td>&lt;p&gt;You may be eligible if you can answer yes t...</td>\n",
       "    </tr>\n",
       "    <tr>\n",
       "      <th>101</th>\n",
       "      <td>P032en</td>\n",
       "      <td>IDNYC</td>\n",
       "      <td>NaN</td>\n",
       "      <td>Program</td>\n",
       "      <td>City ID Card</td>\n",
       "      <td>NYC Human Resources Administration</td>\n",
       "      <td>Immigrants,NYCHA residents,People with disabil...</td>\n",
       "      <td>A free City ID card</td>\n",
       "      <td>&lt;p&gt;IDNYC is a free government-issued photo ID ...</td>\n",
       "      <td>&lt;p&gt;IDNYC can often be used as an official ID f...</td>\n",
       "      <td>&lt;ul&gt;&lt;li&gt;All New Yorkers 10 and older, regardle...</td>\n",
       "      <td>&lt;p&gt;Anyone who lives in NYC and is ages 10 or o...</td>\n",
       "    </tr>\n",
       "  </tbody>\n",
       "</table>\n",
       "</div>"
      ],
      "text/plain": [
       "    unique_id                     program_name program_acronym page_type  \\\n",
       "90     P101en     Career & Technical Education             CTE   Program   \n",
       "93     P059en    Outpatient Treatment Services             NaN   Service   \n",
       "99     P020en                       SchoolFood             NaN   Program   \n",
       "100    P030en  Summer Youth Employment Program            SYEP   Program   \n",
       "101    P032en                            IDNYC             NaN   Program   \n",
       "\n",
       "    program_category                                government_agency  \\\n",
       "90         Education                      NYC Department of Education   \n",
       "93            Health        NYC Department of Health & Mental Hygiene   \n",
       "99              Food                      NYC Department of Education   \n",
       "100             Work  NYC Department of Youth & Community Development   \n",
       "101     City ID Card               NYC Human Resources Administration   \n",
       "\n",
       "                                     population_served  \\\n",
       "90                Children (0-13),Students,Youth (10+)   \n",
       "93   Children (0-13),Immigrants,NYCHA residents,Peo...   \n",
       "99     Children (0-13),Immigrants,Students,Youth (10+)   \n",
       "100                                           Students   \n",
       "101  Immigrants,NYCHA residents,People with disabil...   \n",
       "\n",
       "           plain_language_program_name  \\\n",
       "90        Career training for students   \n",
       "93            Youth mental health care   \n",
       "99     Free school breakfast and lunch   \n",
       "100  Paid summer experiences for youth   \n",
       "101                A free City ID card   \n",
       "\n",
       "                                   program_description  \\\n",
       "90   <p>Career and technical education (CTE) lets s...   \n",
       "93   <p>Young people can get mental health care nea...   \n",
       "99   <p>The New York City Department of Education i...   \n",
       "100  <p>Summer Youth Employment Program (SYEP) conn...   \n",
       "101  <p>IDNYC is a free government-issued photo ID ...   \n",
       "\n",
       "                                         brief_excerpt  \\\n",
       "90   <p>Students gain hands-on career training whil...   \n",
       "93   <p>Help for young people who have emotional, b...   \n",
       "99   <p>NYC students can enjoy free breakfast and l...   \n",
       "100  <p>SYEP provides youth between the ages of 14 ...   \n",
       "101  <p>IDNYC can often be used as an official ID f...   \n",
       "\n",
       "                                              heads_up  \\\n",
       "90   <ul><li>CTE is available at designated <a href...   \n",
       "93   <p>There are two major types of outpatient men...   \n",
       "99   <ul><li>Families no longer need to fill out ap...   \n",
       "100  <ul><li>SYEP is <strong>now </strong><span>acc...   \n",
       "101  <ul><li>All New Yorkers 10 and older, regardle...   \n",
       "\n",
       "                            plain_language_eligibility  \n",
       "90   <p>To be eligible to apply for a NYC public hi...  \n",
       "93   <p>Clinic treatment is available for:</p><ul><...  \n",
       "99                                                 NaN  \n",
       "100  <p>You may be eligible if you can answer yes t...  \n",
       "101  <p>Anyone who lives in NYC and is ages 10 or o...  "
      ]
     },
     "execution_count": 35,
     "metadata": {},
     "output_type": "execute_result"
    }
   ],
   "source": [
    "df_b.tail()"
   ]
  },
  {
   "cell_type": "markdown",
   "metadata": {},
   "source": [
    "Exploration of City Council dataframe df_council"
   ]
  },
  {
   "cell_type": "code",
   "execution_count": 25,
   "metadata": {},
   "outputs": [
    {
     "data": {
      "text/html": [
       "<div>\n",
       "<style scoped>\n",
       "    .dataframe tbody tr th:only-of-type {\n",
       "        vertical-align: middle;\n",
       "    }\n",
       "\n",
       "    .dataframe tbody tr th {\n",
       "        vertical-align: top;\n",
       "    }\n",
       "\n",
       "    .dataframe thead th {\n",
       "        text-align: right;\n",
       "    }\n",
       "</style>\n",
       "<table border=\"1\" class=\"dataframe\">\n",
       "  <thead>\n",
       "    <tr style=\"text-align: right;\">\n",
       "      <th></th>\n",
       "      <th>id</th>\n",
       "      <th>memberid</th>\n",
       "      <th>firstname</th>\n",
       "      <th>lastname</th>\n",
       "      <th>committeeid</th>\n",
       "      <th>committeename</th>\n",
       "      <th>committee_active</th>\n",
       "      <th>title</th>\n",
       "      <th>memberactive</th>\n",
       "      <th>startdate</th>\n",
       "      <th>enddate</th>\n",
       "    </tr>\n",
       "  </thead>\n",
       "  <tbody>\n",
       "    <tr>\n",
       "      <th>0</th>\n",
       "      <td>3847</td>\n",
       "      <td>7562</td>\n",
       "      <td>Margaret S.</td>\n",
       "      <td>Chin</td>\n",
       "      <td>3</td>\n",
       "      <td>Committee on Aging</td>\n",
       "      <td>True</td>\n",
       "      <td>Chairperson</td>\n",
       "      <td>True</td>\n",
       "      <td>2018-01-11</td>\n",
       "      <td>2021-12-31</td>\n",
       "    </tr>\n",
       "    <tr>\n",
       "      <th>1</th>\n",
       "      <td>3848</td>\n",
       "      <td>7742</td>\n",
       "      <td>Diana</td>\n",
       "      <td>Ayala</td>\n",
       "      <td>3</td>\n",
       "      <td>Committee on Aging</td>\n",
       "      <td>True</td>\n",
       "      <td>Committee member</td>\n",
       "      <td>True</td>\n",
       "      <td>2018-01-11</td>\n",
       "      <td>2021-12-31</td>\n",
       "    </tr>\n",
       "    <tr>\n",
       "      <th>2</th>\n",
       "      <td>3849</td>\n",
       "      <td>7629</td>\n",
       "      <td>Chaim M.</td>\n",
       "      <td>Deutsch</td>\n",
       "      <td>3</td>\n",
       "      <td>Committee on Aging</td>\n",
       "      <td>True</td>\n",
       "      <td>Committee member</td>\n",
       "      <td>True</td>\n",
       "      <td>2018-01-11</td>\n",
       "      <td>2021-12-31</td>\n",
       "    </tr>\n",
       "    <tr>\n",
       "      <th>3</th>\n",
       "      <td>3850</td>\n",
       "      <td>7744</td>\n",
       "      <td>Ruben</td>\n",
       "      <td>Diaz, Sr.</td>\n",
       "      <td>3</td>\n",
       "      <td>Committee on Aging</td>\n",
       "      <td>True</td>\n",
       "      <td>Committee member</td>\n",
       "      <td>True</td>\n",
       "      <td>2018-01-11</td>\n",
       "      <td>2021-12-31</td>\n",
       "    </tr>\n",
       "    <tr>\n",
       "      <th>4</th>\n",
       "      <td>3851</td>\n",
       "      <td>7563</td>\n",
       "      <td>Daniel</td>\n",
       "      <td>Dromm</td>\n",
       "      <td>3</td>\n",
       "      <td>Committee on Aging</td>\n",
       "      <td>True</td>\n",
       "      <td>Committee member</td>\n",
       "      <td>False</td>\n",
       "      <td>2018-01-11</td>\n",
       "      <td>2019-04-09</td>\n",
       "    </tr>\n",
       "  </tbody>\n",
       "</table>\n",
       "</div>"
      ],
      "text/plain": [
       "     id  memberid    firstname   lastname  committeeid       committeename  \\\n",
       "0  3847      7562  Margaret S.       Chin            3  Committee on Aging   \n",
       "1  3848      7742        Diana      Ayala            3  Committee on Aging   \n",
       "2  3849      7629     Chaim M.    Deutsch            3  Committee on Aging   \n",
       "3  3850      7744        Ruben  Diaz, Sr.            3  Committee on Aging   \n",
       "4  3851      7563       Daniel      Dromm            3  Committee on Aging   \n",
       "\n",
       "   committee_active             title  memberactive   startdate     enddate  \n",
       "0              True       Chairperson          True  2018-01-11  2021-12-31  \n",
       "1              True  Committee member          True  2018-01-11  2021-12-31  \n",
       "2              True  Committee member          True  2018-01-11  2021-12-31  \n",
       "3              True  Committee member          True  2018-01-11  2021-12-31  \n",
       "4              True  Committee member         False  2018-01-11  2019-04-09  "
      ]
     },
     "execution_count": 25,
     "metadata": {},
     "output_type": "execute_result"
    }
   ],
   "source": [
    "df_council.head()"
   ]
  },
  {
   "cell_type": "code",
   "execution_count": 26,
   "metadata": {},
   "outputs": [
    {
     "data": {
      "text/plain": [
       "id                   int64\n",
       "memberid             int64\n",
       "firstname           object\n",
       "lastname            object\n",
       "committeeid          int64\n",
       "committeename       object\n",
       "committee_active      bool\n",
       "title               object\n",
       "memberactive          bool\n",
       "startdate           object\n",
       "enddate             object\n",
       "dtype: object"
      ]
     },
     "execution_count": 26,
     "metadata": {},
     "output_type": "execute_result"
    }
   ],
   "source": [
    "df_council.dtypes"
   ]
  },
  {
   "cell_type": "code",
   "execution_count": 27,
   "metadata": {
    "scrolled": false
   },
   "outputs": [
    {
     "data": {
      "text/plain": [
       "True     378\n",
       "False     24\n",
       "Name: committee_active, dtype: int64"
      ]
     },
     "execution_count": 27,
     "metadata": {},
     "output_type": "execute_result"
    }
   ],
   "source": [
    "df_council.committee_active.value_counts()"
   ]
  },
  {
   "cell_type": "code",
   "execution_count": 28,
   "metadata": {},
   "outputs": [],
   "source": [
    "#serperating into two dataframes, active committees & inactive\n",
    "df_c = df_council[(df_council['committee_active'] == True)]\n",
    "df_false = df_council[(df_council['committee_active'] == False)]"
   ]
  },
  {
   "cell_type": "code",
   "execution_count": 45,
   "metadata": {},
   "outputs": [
    {
     "data": {
      "text/plain": [
       "Committee on Juvenile Justice                                 7\n",
       "Committee on For-Hire Vehicles                                7\n",
       "Subcommittee on Planning, Dispositions and Concessions        5\n",
       "Subcommittee on Landmarks, Public Siting and Maritime Uses    5\n",
       "Name: committeename, dtype: int64"
      ]
     },
     "execution_count": 45,
     "metadata": {},
     "output_type": "execute_result"
    }
   ],
   "source": [
    "df_false['committeename'].value_counts()"
   ]
  },
  {
   "cell_type": "code",
   "execution_count": 47,
   "metadata": {},
   "outputs": [
    {
     "data": {
      "text/plain": [
       "313"
      ]
     },
     "execution_count": 47,
     "metadata": {},
     "output_type": "execute_result"
    }
   ],
   "source": [
    "df_c = df_c[(df_c['memberactive'] == True)]\n",
    "df_c.shape[0]"
   ]
  },
  {
   "cell_type": "code",
   "execution_count": 48,
   "metadata": {},
   "outputs": [
    {
     "data": {
      "text/plain": [
       "Committee on Education                                                             18\n",
       "Committee on Land Use                                                              16\n",
       "Committee on Finance                                                               15\n",
       "Committee on Transportation                                                        14\n",
       "Committee on Public Safety                                                         13\n",
       "Committee on Public Housing                                                        12\n",
       "Committee on Housing and Buildings                                                 11\n",
       "Committee on Parks and Recreation                                                  11\n",
       "Committee on Rules, Privileges and Elections                                       11\n",
       "Committee on Oversight and Investigations                                           9\n",
       "Committee on General Welfare                                                        9\n",
       "Committee on Sanitation and Solid Waste Management                                  9\n",
       "Committee on Economic Development                                                   9\n",
       "Committee on Aging                                                                  8\n",
       "Committee on Environmental Protection                                               7\n",
       "Committee on Health                                                                 7\n",
       "Committee on Consumer Affairs and Business Licensing                                7\n",
       "Subcommittee on Zoning and Franchises                                               7\n",
       "Committee on Technology                                                             7\n",
       "Committee on Justice System                                                         7\n",
       "Committee on Hospitals                                                              7\n",
       "Committee on Civil Service and Labor                                                7\n",
       "Committee on Governmental Operations                                                7\n",
       "Committee on Higher Education                                                       5\n",
       "Committee on Resiliency and Waterfronts                                             5\n",
       "Committee on Fire and Emergency Management                                          5\n",
       "Committee on Mental Health, Disabilities and Addiction                              5\n",
       "Committee on Standards and Ethics                                                   5\n",
       "Committee on Veterans                                                               5\n",
       "Committee on Immigration                                                            5\n",
       "Committee on State and Federal Legislation                                          5\n",
       "Committee on Youth Services                                                         5\n",
       "Committee on Small Business                                                         5\n",
       "Committee on Civil and Human Rights                                                 5\n",
       "Committee on Women and Gender Equity                                                5\n",
       "Committee on Contracts                                                              5\n",
       "Subcommittee on Landmarks, Public Sitings and Dispositions                          5\n",
       "Subcommittee on Capital Budget                                                      5\n",
       "Committee on Cultural Affairs, Libraries and International Intergroup Relations     5\n",
       "Committee on Criminal Justice                                                       5\n",
       "Name: committeename, dtype: int64"
      ]
     },
     "execution_count": 48,
     "metadata": {},
     "output_type": "execute_result"
    }
   ],
   "source": [
    "df_c.committeename.value_counts()"
   ]
  },
  {
   "cell_type": "code",
   "execution_count": 49,
   "metadata": {},
   "outputs": [
    {
     "data": {
      "text/plain": [
       "Committee member    268\n",
       "Chairperson          40\n",
       "Council member        5\n",
       "Name: title, dtype: int64"
      ]
     },
     "execution_count": 49,
     "metadata": {},
     "output_type": "execute_result"
    }
   ],
   "source": [
    "df_c.title.value_counts()"
   ]
  },
  {
   "cell_type": "code",
   "execution_count": 50,
   "metadata": {},
   "outputs": [
    {
     "data": {
      "text/plain": [
       "Committee member    20\n",
       "Chairperson          4\n",
       "Name: title, dtype: int64"
      ]
     },
     "execution_count": 50,
     "metadata": {},
     "output_type": "execute_result"
    }
   ],
   "source": [
    "df_false.title.value_counts()"
   ]
  },
  {
   "cell_type": "code",
   "execution_count": 51,
   "metadata": {},
   "outputs": [
    {
     "data": {
      "text/plain": [
       "0.8650793650793651"
      ]
     },
     "execution_count": 51,
     "metadata": {},
     "output_type": "execute_result"
    }
   ],
   "source": [
    "327/(327+44+7)"
   ]
  },
  {
   "cell_type": "code",
   "execution_count": 52,
   "metadata": {},
   "outputs": [
    {
     "data": {
      "text/plain": [
       "0.1164021164021164"
      ]
     },
     "execution_count": 52,
     "metadata": {},
     "output_type": "execute_result"
    }
   ],
   "source": [
    "44/(327+44+7)"
   ]
  },
  {
   "cell_type": "markdown",
   "metadata": {},
   "source": [
    "Data Visualizaton "
   ]
  },
  {
   "cell_type": "code",
   "execution_count": 53,
   "metadata": {},
   "outputs": [
    {
     "data": {
      "image/png": "[encoded data removed]",
      "text/plain": [
       "<Figure size 576x432 with 1 Axes>"
      ]
     },
     "metadata": {
      "needs_background": "light"
     },
     "output_type": "display_data"
    }
   ],
   "source": [
    "df_b['program_category'].value_counts().plot(kind='barh', figsize=(8,6))\n",
    "plt.xlabel(\"Count\", labelpad=14)\n",
    "plt.ylabel(\"Program\", labelpad=14)\n",
    "plt.title(\"Count of Program Categories in Top Agencies\", y=1.02);"
   ]
  },
  {
   "cell_type": "code",
   "execution_count": 54,
   "metadata": {},
   "outputs": [
    {
     "data": {
      "image/png": "[encoded data removed]",
      "text/plain": [
       "<Figure size 720x864 with 1 Axes>"
      ]
     },
     "metadata": {
      "needs_background": "light"
     },
     "output_type": "display_data"
    }
   ],
   "source": [
    "df_c['committeename'].value_counts().plot(kind='barh', figsize=(10,12))\n",
    "plt.xlabel(\"Count\", labelpad=14)\n",
    "plt.ylabel(\"Committee Name\", labelpad=14)\n",
    "plt.title(\"Count of Active Members in Active Committees\", y=1.02);"
   ]
  },
  {
   "cell_type": "code",
   "execution_count": 69,
   "metadata": {},
   "outputs": [
    {
     "data": {
      "text/plain": [
       "Text(0.5, 0, 'Count')"
      ]
     },
     "execution_count": 69,
     "metadata": {},
     "output_type": "execute_result"
    },
    {
     "data": {
      "image/png": "[encoded data removed]",
      "text/plain": [
       "<Figure size 864x864 with 1 Axes>"
      ]
     },
     "metadata": {
      "needs_background": "light"
     },
     "output_type": "display_data"
    }
   ],
   "source": [
    "fig_dims = (12,12)\n",
    "fig, ax = plt.subplots(figsize=fig_dims)\n",
    "ax = sns.countplot(y=\"page_type\", hue=\"program_category\", ax=ax, data=df_b)\n",
    "ax.set_title('Program Category Count by Page Type')\n",
    "ax.set_ylabel('Page Type')\n",
    "ax.set_xlabel('Count')"
   ]
  },
  {
   "cell_type": "code",
   "execution_count": 68,
   "metadata": {},
   "outputs": [
    {
     "data": {
      "text/plain": [
       "Text(0.5, 0, 'Count')"
      ]
     },
     "execution_count": 68,
     "metadata": {},
     "output_type": "execute_result"
    },
    {
     "data": {
      "image/png": "[encoded data removed]",
      "text/plain": [
       "<Figure size 864x1440 with 1 Axes>"
      ]
     },
     "metadata": {
      "needs_background": "light"
     },
     "output_type": "display_data"
    }
   ],
   "source": [
    "fig_dims = (12,20)\n",
    "fig, ax = plt.subplots(figsize=fig_dims)\n",
    "ax = sns.countplot(y=\"committeename\", hue=\"title\", ax=ax, data=df_c)\n",
    "ax.set_title('Member Title Count by Committee')\n",
    "ax.set_ylabel('Committee Name')\n",
    "ax.set_xlabel('Count')"
   ]
  },
  {
   "cell_type": "markdown",
   "metadata": {},
   "source": [
    "Overall Findings\n",
    "\n",
    "13% of NYC agencies produce 50% of the benefits and programs. These six agencies include; NYC Department of Education, NYC HR Administration, NYC Department of Youth & Community Dev, NYC DOHMH, NYC Health & Hospitals, and NYS DOH\n",
    "NYC spends a lot of resources on education. The category with the most benefits and programs is education. The city council with the most members is education. \n",
    "The majority of benefits/programs available to NYC residents are programs with education being the most frequent. There are resources and services with education as well.\n",
    "Majority of committees are active, committees that are no longer active include; Committee on Juvenile Justice, Committee on For-Hire Vehicles, Subcommittee on Planning, Dispositions and Concessions, Subcommittee on Landmarks, and Public Siting and Maritime Use \n",
    "87% are committee members, 12% are chairpersons, and the remaining are council members\n",
    "All of the NYC committees have a chairperson and members but only four committees have council members. \n"
   ]
  },
  {
   "cell_type": "markdown",
   "metadata": {},
   "source": []
  }
 ],
 "metadata": {
  "kernelspec": {
   "display_name": "Python 3",
   "language": "python",
   "name": "python3"
  },
  "language_info": {
   "codemirror_mode": {
    "name": "ipython",
    "version": 3
   },
   "file_extension": ".py",
   "mimetype": "text/x-python",
   "name": "python",
   "nbconvert_exporter": "python",
   "pygments_lexer": "ipython3",
   "version": "3.7.9"
  }
 },
 "nbformat": 4,
 "nbformat_minor": 4
}
